{
 "cells": [
  {
   "cell_type": "code",
   "execution_count": 1,
   "metadata": {},
   "outputs": [],
   "source": [
    "# A few imports\n",
    "import yt\n",
    "import numpy as np\n",
    "import trident\n",
    "import matplotlib.pyplot as pl\n",
    "from yt.units import kpc,mp\n",
    "from yt.fields.particle_fields import add_volume_weighted_smoothed_field"
   ]
  },
  {
   "cell_type": "code",
   "execution_count": 2,
   "metadata": {},
   "outputs": [
    {
     "name": "stderr",
     "output_type": "stream",
     "text": [
      "yt : [INFO     ] 2020-05-20 11:52:36,046 Calculating time from 1.000e+00 to be 4.355e+17 seconds\n",
      "yt : [INFO     ] 2020-05-20 11:52:36,047 Assuming length units are in kpc/h (comoving)\n",
      "yt : [INFO     ] 2020-05-20 11:52:36,085 Parameters: current_time              = 4.3545571088051386e+17 s\n",
      "yt : [INFO     ] 2020-05-20 11:52:36,086 Parameters: domain_dimensions         = [2 2 2]\n",
      "yt : [INFO     ] 2020-05-20 11:52:36,087 Parameters: domain_left_edge          = [0. 0. 0.]\n",
      "yt : [INFO     ] 2020-05-20 11:52:36,088 Parameters: domain_right_edge         = [60000. 60000. 60000.]\n",
      "yt : [INFO     ] 2020-05-20 11:52:36,089 Parameters: cosmological_simulation   = 1\n",
      "yt : [INFO     ] 2020-05-20 11:52:36,090 Parameters: current_redshift          = 0.0\n",
      "yt : [INFO     ] 2020-05-20 11:52:36,091 Parameters: omega_lambda              = 0.728\n",
      "yt : [INFO     ] 2020-05-20 11:52:36,092 Parameters: omega_matter              = 0.272\n",
      "yt : [INFO     ] 2020-05-20 11:52:36,092 Parameters: omega_radiation           = 0.0\n",
      "yt : [INFO     ] 2020-05-20 11:52:36,093 Parameters: hubble_constant           = 0.702\n",
      "yt : [INFO     ] 2020-05-20 11:52:36,101 Allocating for 4.150e+07 particles (index particle type 'all')\n",
      "yt : [INFO     ] 2020-05-20 11:52:43,328 Identified 2.680e+06 octs\n"
     ]
    },
    {
     "name": "stdout",
     "output_type": "stream",
     "text": [
      "CPU times: user 7.27 s, sys: 1.84 s, total: 9.11 s\n",
      "Wall time: 9.11 s\n"
     ]
    }
   ],
   "source": [
    "%%time\n",
    "# Import some FIRE2 data\n",
    "fname = '/mnt/raid-project/murray/lakhlani/FIRE2_core/m12c_res56000/output/snapshot_600.hdf5'\n",
    "ds = yt.load(fname)\n",
    "# The center of the Halo was recovered in another notebook\n",
    "center_Halo = [25277.66673046,34505.21241664,32868.48520185]\n",
    "sp = ds.sphere(center_Halo, (10, \"kpc\"))\n",
    "ang_mom_sphere = ds.sphere(center_Halo, (0.5, \"kpc\"))"
   ]
  },
  {
   "cell_type": "code",
   "execution_count": 3,
   "metadata": {},
   "outputs": [],
   "source": [
    "def find_normal_vector():\n",
    "    # Finds the galaxy's normal vector by averaging the angular momentas\n",
    "    # of the particles\n",
    "    angular_momentum =[np.mean(ang_mom_sphere['angular_momentum_x']),\n",
    "                       np.mean(ang_mom_sphere['angular_momentum_y']),\n",
    "                       np.mean(ang_mom_sphere['angular_momentum_z'])]\n",
    "    normalized_ang = np.array(angular_momentum)/np.linalg.norm(angular_momentum)\n",
    "    print(normalized_ang)"
   ]
  },
  {
   "cell_type": "code",
   "execution_count": 4,
   "metadata": {},
   "outputs": [],
   "source": [
    "# Define a few vectors. parr is along the galaxy plane. \n",
    "# Perp is perpendicular to the galaxy plane\n",
    "norm_perp = np.array([0.91752181,-0.21788365,-0.33268671])\n",
    "norm_parr = np.array([-0.21788365,-0.91752181,0])/np.linalg.norm([-0.21788365,-0.91752181,0])"
   ]
  },
  {
   "cell_type": "code",
   "execution_count": 5,
   "metadata": {},
   "outputs": [],
   "source": [
    "# Creates the field which will be required to compute the dispersion measure\n",
    "def _ElectronDensity(field, data):\n",
    "    xh= 1. - data['PartType0','Metallicity_00'] - data['PartType0','Metallicity_01']\n",
    "    ne= xh * data['PartType0','Density'] * data['PartType0','ElectronAbundance'] / mp\n",
    "    return ne\n",
    "# Adds the field to the data set\n",
    "ds.add_field(('PartType0', '_ElectronDensity'), function = _ElectronDensity, \n",
    "             sampling_type = 'particle', units='1/cm**3')\n",
    "\n",
    "# smooths a particle field into a continuous field\n",
    "fn = add_volume_weighted_smoothed_field(\n",
    "      \"PartType0\", \"particle_position\", \"particle_mass\", \"smoothing_length\",\n",
    "      \"density\", \"_ElectronDensity\",ds.field_info)\n",
    "\n",
    "# Labels the new field\n",
    "ds.field_info.alias(('gas', '_ElectronDensity'), fn[0])\n",
    "ds.derived_field_list.append(('gas', '_ElectronDensity'))"
   ]
  },
  {
   "cell_type": "code",
   "execution_count": 14,
   "metadata": {},
   "outputs": [],
   "source": [
    "def make_ray_plots(projection_axis, ray_axis, filename, all_angles = False):\n",
    "    ''' \n",
    "    This function computes the dispersion measure along a light ray\n",
    "    going through a simulated galaxy.\n",
    "    Arguments:\n",
    "    projection_axis: vector perpendicular to the light ray used to make a projection plot\n",
    "    ray_axis: vector parallel to the light ray\n",
    "    filename: name inditifer for images\n",
    "    all_angles: Instead of creating a single off-axis projection plot,\n",
    "    the function creates three on-axis projection plots when True\n",
    "    '''\n",
    "    \n",
    "    # RAY CREATION\n",
    "    ray_end = list(np.array(center_Halo) + 4*np.array(ray_axis))\n",
    "    ray = trident.make_simple_ray(ds,\n",
    "                                   start_position=center_Halo,\n",
    "                                    end_position=ray_end,\n",
    "                                    fields = ['_ElectronDensity','density','temperature'],\n",
    "                                    data_filename=\"{}.h5\".format(filename))\n",
    "    \n",
    "    # GALAXY PLOTS\n",
    "    if all_angles:\n",
    "        # Creates three on-axis projection plots\n",
    "        axes=['x','y','z']\n",
    "        for axis in axes:\n",
    "            prj_x = yt.ProjectionPlot(ds, axis, 'density', width=10*kpc, data_source = sp,\n",
    "                                      center=center_Halo)\n",
    "            prj_x.annotate_ray(ray)\n",
    "            prj_x.save(filename+'_galaxy_{}.pdf'.format(str(axis)))\n",
    "        \n",
    "    else:\n",
    "        image = yt.OffAxisProjectionPlot(ds, projection_axis, fields= 'density', \n",
    "                                         center= center_Halo, width=10, data_source = sp)\n",
    "        image.annotate_ray(ray)\n",
    "        image.save(filename+'_galaxy.pdf')\n",
    "    \n",
    "        # COMPUTING THE DM\n",
    "        length = np.linalg.norm(np.array(center_Halo)-np.array(ray_end))\n",
    "        int_elec_dens = []\n",
    "        int_total = 0\n",
    "        increment = length/len(ray.data['_ElectronDensity'])\n",
    "        # Finding the entry where arc_length>1kpc:\n",
    "        for i in range(len(ray.data['_ElectronDensity'])):\n",
    "            # Convert in pc/cm^-3\n",
    "            int_total += ray.data['_ElectronDensity'][i]*increment*1000\n",
    "            int_elec_dens.append(float(int_total))\n",
    "        \n",
    "        # LIGHT RAY DATA PLOTS\n",
    "        fig, axs = pl.subplots(2,2)\n",
    "\n",
    "        axs[0,0].plot(np.linspace(0,length,len(ray.data['density'])), \n",
    "                      np.log10(ray.data['density']))\n",
    "        axs[0,0].set_xlabel('Arc Length (kpc)')\n",
    "        axs[0,0].set_ylabel('Density '+r'$\\log\\left(\\frac{g}{cm^3}\\right)$')\n",
    "\n",
    "        axs[0,1].plot(np.linspace(0,length,len(ray.data['temperature'])), \n",
    "                      np.log10(ray.data['temperature']))\n",
    "        axs[0,1].set_xlabel('Arc Length (kpc)')\n",
    "        axs[0,1].set_ylabel('Temperature '+r'$\\log(K)$')\n",
    "\n",
    "        axs[1,0].plot(np.linspace(0,length,len(ray.data['_ElectronDensity'])), \n",
    "                np.log10(ray.data['_ElectronDensity']))\n",
    "        axs[1,0].set_xlabel('Arc Length (kpc)')\n",
    "        axs[1,0].set_ylabel('Electron Density '+r'$\\log(cm^{-3})$')\n",
    "\n",
    "        axs[1,1].plot(np.linspace(0,length,len(int_elec_dens)), np.log10(int_elec_dens))\n",
    "        axs[1,1].set_xlabel('Arc Length (kpc)')\n",
    "        axs[1,1].set_ylabel('DM '+r'$\\log(cm^{-2})$')\n",
    "\n",
    "        pl.subplots_adjust(left = 0.20,right = 0.9,bottom = 0.2,top = 0.9,\n",
    "                           wspace = 0.4,hspace = 0.8)\n",
    "        fig.savefig(filename+'_subplots.pdf')\n",
    "    return ray"
   ]
  },
  {
   "cell_type": "code",
   "execution_count": 13,
   "metadata": {},
   "outputs": [
    {
     "name": "stderr",
     "output_type": "stream",
     "text": [
      "yt : [INFO     ] 2020-05-20 12:14:04,278 Getting segment at z = 0.0: [0.42129445 0.57508687 0.54780809] unitary to [0.42127904 0.57502201 0.54780809] unitary.\n",
      "/home/hlamarre/.local/lib/python3.7/site-packages/yt/units/yt_array.py:1417: RuntimeWarning: invalid value encountered in true_divide\n",
      "  out=out, **kwargs)\n",
      "/home/hlamarre/.local/lib/python3.7/site-packages/yt/units/yt_array.py:1417: RuntimeWarning: invalid value encountered in less\n",
      "  out=out, **kwargs)\n",
      "yt : [INFO     ] 2020-05-20 12:14:04,285 Getting subsegment: [0.4212944455076667 unitary, 0.5750868736106668 unitary, 0.5478080866975 unitary] to [0.42127904253795223 unitary, 0.5750220107324665 unitary, 0.5478080866975 unitary].\n",
      "yt : [INFO     ] 2020-05-20 12:16:35,729 Saving field data to yt dataset: ray_parr.h5.\n",
      "yt : [INFO     ] 2020-05-20 12:16:35,931 Parameters: current_time              = 4.3545571088051386e+17 s\n",
      "yt : [INFO     ] 2020-05-20 12:16:35,932 Parameters: domain_dimensions         = [2 2 2]\n",
      "yt : [INFO     ] 2020-05-20 12:16:35,933 Parameters: domain_left_edge          = [0. 0. 0.] code_length\n",
      "yt : [INFO     ] 2020-05-20 12:16:35,934 Parameters: domain_right_edge         = [60000. 60000. 60000.] code_length\n",
      "yt : [INFO     ] 2020-05-20 12:16:35,935 Parameters: cosmological_simulation   = 1\n",
      "yt : [INFO     ] 2020-05-20 12:16:35,936 Parameters: current_redshift          = 0.0\n",
      "yt : [INFO     ] 2020-05-20 12:16:35,936 Parameters: omega_lambda              = 0.728\n",
      "yt : [INFO     ] 2020-05-20 12:16:35,937 Parameters: omega_matter              = 0.272\n",
      "yt : [ERROR    ] 2020-05-20 12:16:35,938 Missing omega_radiation in parameter file definition!\n",
      "yt : [INFO     ] 2020-05-20 12:16:35,939 Parameters: hubble_constant           = 0.702\n",
      "yt : [INFO     ] 2020-05-20 12:17:12,982 Projection completed\n",
      "yt : [INFO     ] 2020-05-20 12:17:12,983 xlim = 34501.702417 34508.722417\n",
      "yt : [INFO     ] 2020-05-20 12:17:12,984 ylim = 32864.975202 32871.995202\n",
      "yt : [INFO     ] 2020-05-20 12:17:12,985 xlim = 34501.702417 34508.722417\n",
      "yt : [INFO     ] 2020-05-20 12:17:12,986 ylim = 32864.975202 32871.995202\n",
      "yt : [INFO     ] 2020-05-20 12:17:12,987 Making a fixed resolution buffer of (('gas', 'density')) 800 by 800\n",
      "yt : [INFO     ] 2020-05-20 12:17:13,229 Saving plot ray_parr_galaxy_x.pdf\n",
      "yt : [INFO     ] 2020-05-20 12:17:50,386 Projection completed\n",
      "yt : [INFO     ] 2020-05-20 12:17:50,387 xlim = 32864.975202 32871.995202\n",
      "yt : [INFO     ] 2020-05-20 12:17:50,388 ylim = 25274.156730 25281.176730\n",
      "yt : [INFO     ] 2020-05-20 12:17:50,389 xlim = 32864.975202 32871.995202\n",
      "yt : [INFO     ] 2020-05-20 12:17:50,389 ylim = 25274.156730 25281.176730\n",
      "yt : [INFO     ] 2020-05-20 12:17:50,391 Making a fixed resolution buffer of (('gas', 'density')) 800 by 800\n",
      "/home/hlamarre/.local/lib/python3.7/site-packages/yt/units/yt_array.py:1417: RuntimeWarning: invalid value encountered in true_divide\n",
      "  out=out, **kwargs)\n",
      "/home/hlamarre/.local/lib/python3.7/site-packages/yt/units/yt_array.py:1417: RuntimeWarning: invalid value encountered in less\n",
      "  out=out, **kwargs)\n",
      "yt : [INFO     ] 2020-05-20 12:17:50,719 Saving plot ray_parr_galaxy_y.pdf\n",
      "yt : [INFO     ] 2020-05-20 12:18:27,736 Projection completed\n",
      "yt : [INFO     ] 2020-05-20 12:18:27,737 xlim = 25274.156730 25281.176730\n",
      "yt : [INFO     ] 2020-05-20 12:18:27,738 ylim = 34501.702417 34508.722417\n",
      "yt : [INFO     ] 2020-05-20 12:18:27,740 xlim = 25274.156730 25281.176730\n",
      "yt : [INFO     ] 2020-05-20 12:18:27,741 ylim = 34501.702417 34508.722417\n",
      "yt : [INFO     ] 2020-05-20 12:18:27,743 Making a fixed resolution buffer of (('gas', 'density')) 800 by 800\n",
      "/home/hlamarre/.local/lib/python3.7/site-packages/yt/units/yt_array.py:1417: RuntimeWarning: invalid value encountered in true_divide\n",
      "  out=out, **kwargs)\n",
      "/home/hlamarre/.local/lib/python3.7/site-packages/yt/units/yt_array.py:1417: RuntimeWarning: invalid value encountered in less\n",
      "  out=out, **kwargs)\n",
      "yt : [INFO     ] 2020-05-20 12:18:27,984 Saving plot ray_parr_galaxy_z.pdf\n"
     ]
    },
    {
     "name": "stdout",
     "output_type": "stream",
     "text": [
      "CPU times: user 2min 57s, sys: 1min 26s, total: 4min 24s\n",
      "Wall time: 4min 23s\n"
     ]
    }
   ],
   "source": [
    "%%time\n",
    "ray_parr = make_ray_plots(norm_perp, norm_parr, 'ray_parr', all_angles=True)"
   ]
  },
  {
   "cell_type": "code",
   "execution_count": 15,
   "metadata": {},
   "outputs": [
    {
     "name": "stderr",
     "output_type": "stream",
     "text": [
      "yt : [INFO     ] 2020-05-20 12:21:23,609 Getting segment at z = 0.0: [0.42129445 0.57508687 0.54780809] unitary to [0.42135561 0.57507235 0.54778591] unitary.\n",
      "yt : [INFO     ] 2020-05-20 12:21:23,612 Getting subsegment: [0.4212944455076667 unitary, 0.5750868736106668 unitary, 0.5478080866975 unitary] to [0.42135561362833335 unitary, 0.575072348034 unitary, 0.5477859075835 unitary].\n",
      "yt : [INFO     ] 2020-05-20 12:24:00,754 Saving field data to yt dataset: ray_perp.h5.\n",
      "yt : [INFO     ] 2020-05-20 12:24:00,959 Parameters: current_time              = 4.3545571088051386e+17 s\n",
      "yt : [INFO     ] 2020-05-20 12:24:00,960 Parameters: domain_dimensions         = [2 2 2]\n",
      "yt : [INFO     ] 2020-05-20 12:24:00,961 Parameters: domain_left_edge          = [0. 0. 0.] code_length\n",
      "yt : [INFO     ] 2020-05-20 12:24:00,962 Parameters: domain_right_edge         = [60000. 60000. 60000.] code_length\n",
      "yt : [INFO     ] 2020-05-20 12:24:00,963 Parameters: cosmological_simulation   = 1\n",
      "yt : [INFO     ] 2020-05-20 12:24:00,964 Parameters: current_redshift          = 0.0\n",
      "yt : [INFO     ] 2020-05-20 12:24:00,965 Parameters: omega_lambda              = 0.728\n",
      "yt : [INFO     ] 2020-05-20 12:24:00,965 Parameters: omega_matter              = 0.272\n",
      "yt : [ERROR    ] 2020-05-20 12:24:00,966 Missing omega_radiation in parameter file definition!\n",
      "yt : [INFO     ] 2020-05-20 12:24:00,967 Parameters: hubble_constant           = 0.702\n"
     ]
    },
    {
     "ename": "AttributeError",
     "evalue": "'ImageArray' object has no attribute 'annotate_ray'",
     "output_type": "error",
     "traceback": [
      "\u001b[0;31m---------------------------------------------------------------------------\u001b[0m",
      "\u001b[0;31mAttributeError\u001b[0m                            Traceback (most recent call last)",
      "\u001b[0;32m<timed exec>\u001b[0m in \u001b[0;36m<module>\u001b[0;34m\u001b[0m\n",
      "\u001b[0;32m<ipython-input-14-e914460e5fa8>\u001b[0m in \u001b[0;36mmake_ray_plots\u001b[0;34m(projection_axis, ray_axis, filename, all_angles)\u001b[0m\n\u001b[1;32m     32\u001b[0m         image = yt.off_axis_projection(ds, center_Halo, projection_axis, 10,\n\u001b[1;32m     33\u001b[0m                                        1000, 'density')\n\u001b[0;32m---> 34\u001b[0;31m         \u001b[0mimage\u001b[0m\u001b[0;34m.\u001b[0m\u001b[0mannotate_ray\u001b[0m\u001b[0;34m(\u001b[0m\u001b[0mray\u001b[0m\u001b[0;34m)\u001b[0m\u001b[0;34m\u001b[0m\u001b[0;34m\u001b[0m\u001b[0m\n\u001b[0m\u001b[1;32m     35\u001b[0m         \u001b[0mimage\u001b[0m\u001b[0;34m.\u001b[0m\u001b[0msave\u001b[0m\u001b[0;34m(\u001b[0m\u001b[0mfilename\u001b[0m\u001b[0;34m+\u001b[0m\u001b[0;34m'_galaxy.pdf'\u001b[0m\u001b[0;34m)\u001b[0m\u001b[0;34m\u001b[0m\u001b[0;34m\u001b[0m\u001b[0m\n\u001b[1;32m     36\u001b[0m \u001b[0;34m\u001b[0m\u001b[0m\n",
      "\u001b[0;31mAttributeError\u001b[0m: 'ImageArray' object has no attribute 'annotate_ray'"
     ]
    }
   ],
   "source": [
    "%%time\n",
    "ray_perp = make_ray_plots(norm_parr, norm_perp, 'ray_perp')"
   ]
  },
  {
   "cell_type": "code",
   "execution_count": null,
   "metadata": {},
   "outputs": [],
   "source": []
  }
 ],
 "metadata": {
  "kernelspec": {
   "display_name": "Python 3",
   "language": "python",
   "name": "python3"
  },
  "language_info": {
   "codemirror_mode": {
    "name": "ipython",
    "version": 3
   },
   "file_extension": ".py",
   "mimetype": "text/x-python",
   "name": "python",
   "nbconvert_exporter": "python",
   "pygments_lexer": "ipython3",
   "version": "3.7.3"
  }
 },
 "nbformat": 4,
 "nbformat_minor": 4
}
