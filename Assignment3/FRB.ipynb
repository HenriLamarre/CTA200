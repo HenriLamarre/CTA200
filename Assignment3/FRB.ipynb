{
 "cells": [
  {
   "cell_type": "code",
   "execution_count": 1,
   "metadata": {},
   "outputs": [],
   "source": [
    "import numpy as np\n",
    "import pandas as pd\n",
    "# Load the relevant parts of astropy \n",
    "from astropy import units as u\n",
    "from astropy.coordinates import SkyCoord\n",
    "import matplotlib.pyplot as plt"
   ]
  },
  {
   "cell_type": "code",
   "execution_count": 10,
   "metadata": {},
   "outputs": [],
   "source": [
    "# Import the CSV FRB data\n",
    "data = pd.read_csv('frbcat_20200512.csv')\n",
    "# Converts the gl and gb to galactic coordinates in astropy\n",
    "gal = SkyCoord(data.values[:,5], data.values[:,6], frame='galactic', unit=u.deg)\n",
    "# Create a colormap for plotting\n",
    "colour = []\n",
    "for item in data.values[:,8]:\n",
    "    i=0\n",
    "    character = item[0]\n",
    "    number = ''\n",
    "    while character!='&':\n",
    "        number += character\n",
    "        i+=1\n",
    "        if i==len(item):\n",
    "            break\n",
    "        character = item[i]\n",
    "    colour.append(float(number))"
   ]
  },
  {
   "cell_type": "code",
   "execution_count": 51,
   "metadata": {},
   "outputs": [],
   "source": [
    "plt.subplot(111, projection='aitoff')\n",
    "plt.grid(True)\n",
    "plt.scatter(gal.l.wrap_at('180d').radian, gal.b.radian, c = colour, cmap = 'plasma')\n",
    "plt.colorbar(label=\"DM \"+r\"$cm^{-3}pc$\")\n",
    "plt.savefig('FRB_gal_coord.pdf')\n",
    "plt.close()"
   ]
  },
  {
   "cell_type": "code",
   "execution_count": 52,
   "metadata": {},
   "outputs": [],
   "source": [
    "corrected_colour = colour-data.values[:,7]\n",
    "plt.subplot(111, projection='aitoff')\n",
    "plt.grid(True)\n",
    "plt.scatter(gal.l.wrap_at('180d').radian, gal.b.radian,\n",
    "            c = corrected_colour, cmap = 'plasma')\n",
    "plt.colorbar(label=\"DM-DMgal \"+r\"$cm^{-3}pc$\")\n",
    "plt.savefig('FRB_gal_coord_corrected.pdf')\n",
    "plt.close()"
   ]
  },
  {
   "cell_type": "code",
   "execution_count": 46,
   "metadata": {},
   "outputs": [
    {
     "name": "stdout",
     "output_type": "stream",
     "text": [
      "17\n",
      "33\n",
      "59\n"
     ]
    }
   ],
   "source": [
    "# Find low DM frbs\n",
    "for i in range(len(colour)):\n",
    "    if colour[i] < 120:\n",
    "        print(i)"
   ]
  },
  {
   "cell_type": "code",
   "execution_count": 53,
   "metadata": {},
   "outputs": [],
   "source": [
    "list_x = [data.values[:,5][17],data.values[:,5][33],data.values[:,5][59]]\n",
    "list_y = [data.values[:,6][17],data.values[:,6][33],data.values[:,6][59]]\n",
    "gal_low_DM = SkyCoord(list_x, list_y, frame='galactic', unit=u.deg)\n",
    "plt.subplot(111, projection='aitoff')\n",
    "plt.grid(True)\n",
    "plt.scatter(gal_low_DM.l.wrap_at('180d').radian, gal_low_DM.b.radian,\n",
    "            c = [colour[17],colour[33],colour[59]], cmap = 'plasma',\n",
    "           vmin = min(colour), vmax = max(colour))\n",
    "plt.colorbar(label=\"DM \"+r\"$cm^{-3}pc$\")\n",
    "plt.savefig('FRB_gal_low_DM.pdf')\n",
    "plt.close()"
   ]
  },
  {
   "cell_type": "code",
   "execution_count": null,
   "metadata": {},
   "outputs": [],
   "source": []
  }
 ],
 "metadata": {
  "kernelspec": {
   "display_name": "Python 3",
   "language": "python",
   "name": "python3"
  },
  "language_info": {
   "codemirror_mode": {
    "name": "ipython",
    "version": 3
   },
   "file_extension": ".py",
   "mimetype": "text/x-python",
   "name": "python",
   "nbconvert_exporter": "python",
   "pygments_lexer": "ipython3",
   "version": "3.7.3"
  }
 },
 "nbformat": 4,
 "nbformat_minor": 2
}
