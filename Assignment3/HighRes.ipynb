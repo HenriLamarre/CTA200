{
 "cells": [
  {
   "cell_type": "code",
   "execution_count": 1,
   "metadata": {},
   "outputs": [],
   "source": [
    "# A few imports\n",
    "import yt\n",
    "import numpy as np\n",
    "import trident\n",
    "import matplotlib.pyplot as pl\n",
    "from yt.units import kpc,mp\n",
    "from yt.fields.particle_fields import add_volume_weighted_smoothed_field\n",
    "from make_light_ray_plots import _ElectronDensity, make_light_ray_plots"
   ]
  },
  {
   "cell_type": "code",
   "execution_count": 2,
   "metadata": {},
   "outputs": [
    {
     "name": "stderr",
     "output_type": "stream",
     "text": [
      "yt : [INFO     ] 2020-05-22 09:20:49,155 Calculating time from 1.000e+00 to be 4.355e+17 seconds\n",
      "yt : [INFO     ] 2020-05-22 09:20:49,157 Assuming length units are in kpc/h (comoving)\n",
      "yt : [INFO     ] 2020-05-22 09:20:49,196 Parameters: current_time              = 4.3545571088051386e+17 s\n",
      "yt : [INFO     ] 2020-05-22 09:20:49,197 Parameters: domain_dimensions         = [2 2 2]\n",
      "yt : [INFO     ] 2020-05-22 09:20:49,198 Parameters: domain_left_edge          = [0. 0. 0.]\n",
      "yt : [INFO     ] 2020-05-22 09:20:49,199 Parameters: domain_right_edge         = [60000. 60000. 60000.]\n",
      "yt : [INFO     ] 2020-05-22 09:20:49,201 Parameters: cosmological_simulation   = 1\n",
      "yt : [INFO     ] 2020-05-22 09:20:49,201 Parameters: current_redshift          = 0.0\n",
      "yt : [INFO     ] 2020-05-22 09:20:49,202 Parameters: omega_lambda              = 0.728\n",
      "yt : [INFO     ] 2020-05-22 09:20:49,203 Parameters: omega_matter              = 0.272\n",
      "yt : [INFO     ] 2020-05-22 09:20:49,204 Parameters: omega_radiation           = 0.0\n",
      "yt : [INFO     ] 2020-05-22 09:20:49,204 Parameters: hubble_constant           = 0.702\n",
      "yt : [INFO     ] 2020-05-22 09:20:49,273 Parameters: current_time              = 3.0568990903812077e+17 s\n",
      "yt : [INFO     ] 2020-05-22 09:20:49,274 Parameters: domain_dimensions         = [2 2 2]\n",
      "yt : [INFO     ] 2020-05-22 09:20:49,275 Parameters: domain_left_edge          = [0. 0. 0.]\n",
      "yt : [INFO     ] 2020-05-22 09:20:49,276 Parameters: domain_right_edge         = [60000. 60000. 60000.]\n",
      "yt : [INFO     ] 2020-05-22 09:20:49,277 Parameters: cosmological_simulation   = 1\n",
      "yt : [INFO     ] 2020-05-22 09:20:49,278 Parameters: current_redshift          = 0.0\n",
      "yt : [INFO     ] 2020-05-22 09:20:49,278 Parameters: omega_lambda              = 0.728\n",
      "yt : [INFO     ] 2020-05-22 09:20:49,279 Parameters: omega_matter              = 0.272\n",
      "yt : [INFO     ] 2020-05-22 09:20:49,280 Parameters: omega_radiation           = 0.0\n",
      "yt : [INFO     ] 2020-05-22 09:20:49,280 Parameters: hubble_constant           = 1.0\n",
      "yt : [INFO     ] 2020-05-22 09:20:49,381 Allocating for 6.667e+03 particles (index particle type 'all')\n",
      "yt : [INFO     ] 2020-05-22 09:20:49,561 Identified 2.025e+03 octs\n",
      "yt : [INFO     ] 2020-05-22 09:20:50,279 Allocating for 1.471e+08 particles (index particle type 'all')\n",
      "yt : [INFO     ] 2020-05-22 09:21:28,116 Identified 8.970e+06 octs\n"
     ]
    },
    {
     "name": "stdout",
     "output_type": "stream",
     "text": [
      "CPU times: user 35.3 s, sys: 5.53 s, total: 40.9 s\n",
      "Wall time: 40.8 s\n"
     ]
    }
   ],
   "source": [
    "%%time\n",
    "# Import some FIRE2 data\n",
    "fname = '/mnt/raid-project/murray/FIRE/FIRE_2/'+\\\n",
    "        'm12i_res7100_md/output/snapdir_600/snapshot_600.0.hdf5'\n",
    "ds = yt.load(fname)\n",
    "params = yt.load('/mnt/raid-project/murray/FIRE/FIRE_2/'+\\\n",
    "        'm12i_res7100_md/haloes/snap600Rpep..parameter')\n",
    "ad_param = params.all_data()\n",
    "# The center of the Halo was recovered in another notebook\n",
    "center_Halo = ad_param[\"halos\", \"particle_position\"][0]\n",
    "sp = ds.sphere(center_Halo, (10, \"kpc\"))"
   ]
  },
  {
   "cell_type": "code",
   "execution_count": 3,
   "metadata": {},
   "outputs": [
    {
     "name": "stdout",
     "output_type": "stream",
     "text": [
      "CPU times: user 1e+03 µs, sys: 0 ns, total: 1e+03 µs\n",
      "Wall time: 631 µs\n"
     ]
    }
   ],
   "source": [
    "%%time\n",
    "ang_mom_sphere = ds.sphere(center_Halo, (2, \"kpc\"))\n",
    "norm_perp = np.array([ 0.90088129,-0.07389156,-0.42772998])\n",
    "norm_parr = yt.ortho_find(norm_perp)[1]"
   ]
  },
  {
   "cell_type": "code",
   "execution_count": 4,
   "metadata": {},
   "outputs": [],
   "source": [
    "# Adds the field to the data set\n",
    "ds.add_field(('PartType0', '_ElectronDensity'), function = _ElectronDensity, \n",
    "             sampling_type = 'particle', units='1/cm**3')\n",
    "\n",
    "# smooths a particle field into a continuous field\n",
    "fn = add_volume_weighted_smoothed_field(\n",
    "      \"PartType0\", \"particle_position\", \"particle_mass\", \"smoothing_length\",\n",
    "      \"density\", \"_ElectronDensity\",ds.field_info)\n",
    "\n",
    "# Labels the new field\n",
    "ds.field_info.alias(('gas', '_ElectronDensity'), fn[0])\n",
    "ds.derived_field_list.append(('gas', '_ElectronDensity'))"
   ]
  },
  {
   "cell_type": "code",
   "execution_count": 6,
   "metadata": {},
   "outputs": [
    {
     "name": "stderr",
     "output_type": "stream",
     "text": [
      "yt : [INFO     ] 2020-05-22 10:24:47,901 Getting segment at z = 0.0: [0.48896831 0.5163354  0.54133174] unitary to [ 6.82082245e-05  3.67948604e-06 -1.94931363e-05] unitary.\n",
      "yt : [INFO     ] 2020-05-22 10:24:47,904 Getting subsegment: [0.48896831061 unitary, 0.51633540239 unitary, 0.5413317425928333 unitary] to [8.581268479224136e-05 unitary, 2.227171227153768e-05 unitary, 0.0 unitary].\n",
      "/home/hlamarre/.local/lib/python3.7/site-packages/yt/units/yt_array.py:1417: RuntimeWarning: invalid value encountered in true_divide\n",
      "  out=out, **kwargs)\n",
      "yt : [INFO     ] 2020-05-22 10:55:08,337 Getting subsegment: [8.581268479224136e-05 unitary, 2.227171227153768e-05 unitary, 1.0 unitary] to [6.820822451016666e-05 unitary, 3.6794860398333334e-06 unitary, 0.9999805068637099 unitary].\n",
      "yt : [INFO     ] 2020-05-22 11:25:55,001 Saving field data to yt dataset: [0.42890248 0.         0.9033508 ].h5.\n",
      "yt : [INFO     ] 2020-05-22 11:25:55,182 Parameters: current_time              = 4.3545571088051386e+17 s\n",
      "yt : [INFO     ] 2020-05-22 11:25:55,183 Parameters: domain_dimensions         = [2 2 2]\n",
      "yt : [INFO     ] 2020-05-22 11:25:55,184 Parameters: domain_left_edge          = [0. 0. 0.] code_length\n",
      "yt : [INFO     ] 2020-05-22 11:25:55,185 Parameters: domain_right_edge         = [60000. 60000. 60000.] code_length\n",
      "yt : [INFO     ] 2020-05-22 11:25:55,185 Parameters: cosmological_simulation   = 1\n",
      "yt : [INFO     ] 2020-05-22 11:25:55,186 Parameters: current_redshift          = 0.0\n",
      "yt : [INFO     ] 2020-05-22 11:25:55,187 Parameters: omega_lambda              = 0.728\n",
      "yt : [INFO     ] 2020-05-22 11:25:55,188 Parameters: omega_matter              = 0.272\n",
      "yt : [ERROR    ] 2020-05-22 11:25:55,188 Missing omega_radiation in parameter file definition!\n",
      "yt : [INFO     ] 2020-05-22 11:25:55,189 Parameters: hubble_constant           = 0.702\n"
     ]
    },
    {
     "ename": "AttributeError",
     "evalue": "'YTArray' object has no attribute 'field_parameters'",
     "output_type": "error",
     "traceback": [
      "\u001b[0;31m---------------------------------------------------------------------------\u001b[0m",
      "\u001b[0;31mAttributeError\u001b[0m                            Traceback (most recent call last)",
      "\u001b[0;32m<timed exec>\u001b[0m in \u001b[0;36m<module>\u001b[0;34m\u001b[0m\n",
      "\u001b[0;32m/cita/d/homes/home-2/hlamarre/Documents/Assignment/CTA200.git/Assignment3/make_light_ray_plots.py\u001b[0m in \u001b[0;36mmake_light_ray_plots\u001b[0;34m(ds, center_Halo, sp, projection_axis, ray_axis, filename, all_axes)\u001b[0m\n\u001b[1;32m     54\u001b[0m                                       \u001b[0mwidth\u001b[0m\u001b[0;34m=\u001b[0m\u001b[0;36m10\u001b[0m\u001b[0;34m*\u001b[0m\u001b[0mkpc\u001b[0m\u001b[0;34m,\u001b[0m \u001b[0mdata_source\u001b[0m \u001b[0;34m=\u001b[0m \u001b[0msp\u001b[0m\u001b[0;34m,\u001b[0m\u001b[0;34m\u001b[0m\u001b[0;34m\u001b[0m\u001b[0m\n\u001b[1;32m     55\u001b[0m                                       center=center_Halo)\n\u001b[0;32m---> 56\u001b[0;31m             \u001b[0mprj_x\u001b[0m\u001b[0;34m.\u001b[0m\u001b[0mannotate_ray\u001b[0m\u001b[0;34m(\u001b[0m\u001b[0mray\u001b[0m\u001b[0;34m)\u001b[0m\u001b[0;34m\u001b[0m\u001b[0;34m\u001b[0m\u001b[0m\n\u001b[0m\u001b[1;32m     57\u001b[0m             \u001b[0mprj_x\u001b[0m\u001b[0;34m.\u001b[0m\u001b[0msave\u001b[0m\u001b[0;34m(\u001b[0m\u001b[0mfilename\u001b[0m\u001b[0;34m+\u001b[0m\u001b[0;34m'_galaxy_{}.pdf'\u001b[0m\u001b[0;34m.\u001b[0m\u001b[0mformat\u001b[0m\u001b[0;34m(\u001b[0m\u001b[0mstr\u001b[0m\u001b[0;34m(\u001b[0m\u001b[0maxis\u001b[0m\u001b[0;34m)\u001b[0m\u001b[0;34m)\u001b[0m\u001b[0;34m)\u001b[0m\u001b[0;34m\u001b[0m\u001b[0;34m\u001b[0m\u001b[0m\n\u001b[1;32m     58\u001b[0m \u001b[0;34m\u001b[0m\u001b[0m\n",
      "\u001b[0;32m~/.local/lib/python3.7/site-packages/yt/visualization/plot_window.py\u001b[0m in \u001b[0;36m__init__\u001b[0;34m(self, ds, axis, fields, center, width, axes_unit, weight_field, max_level, origin, right_handed, fontsize, field_parameters, data_source, method, proj_style, window_size, aspect)\u001b[0m\n\u001b[1;32m   1475\u001b[0m                            \u001b[0mcenter\u001b[0m\u001b[0;34m=\u001b[0m\u001b[0mcenter\u001b[0m\u001b[0;34m,\u001b[0m \u001b[0mdata_source\u001b[0m\u001b[0;34m=\u001b[0m\u001b[0mdata_source\u001b[0m\u001b[0;34m,\u001b[0m\u001b[0;34m\u001b[0m\u001b[0;34m\u001b[0m\u001b[0m\n\u001b[1;32m   1476\u001b[0m                            \u001b[0mfield_parameters\u001b[0m\u001b[0;34m=\u001b[0m\u001b[0mfield_parameters\u001b[0m\u001b[0;34m,\u001b[0m \u001b[0mmethod\u001b[0m\u001b[0;34m=\u001b[0m\u001b[0mmethod\u001b[0m\u001b[0;34m,\u001b[0m\u001b[0;34m\u001b[0m\u001b[0;34m\u001b[0m\u001b[0m\n\u001b[0;32m-> 1477\u001b[0;31m                            max_level=max_level)\n\u001b[0m\u001b[1;32m   1478\u001b[0m         PWViewerMPL.__init__(self, proj, bounds, fields=fields, origin=origin,\n\u001b[1;32m   1479\u001b[0m                              \u001b[0mright_handed\u001b[0m\u001b[0;34m=\u001b[0m\u001b[0mright_handed\u001b[0m\u001b[0;34m,\u001b[0m \u001b[0mfontsize\u001b[0m\u001b[0;34m=\u001b[0m\u001b[0mfontsize\u001b[0m\u001b[0;34m,\u001b[0m \u001b[0mwindow_size\u001b[0m\u001b[0;34m=\u001b[0m\u001b[0mwindow_size\u001b[0m\u001b[0;34m,\u001b[0m\u001b[0;34m\u001b[0m\u001b[0;34m\u001b[0m\u001b[0m\n",
      "\u001b[0;32m~/.local/lib/python3.7/site-packages/yt/data_objects/construction_data_containers.py\u001b[0m in \u001b[0;36m__init__\u001b[0;34m(self, field, axis, weight_field, center, ds, data_source, style, method, field_parameters, max_level)\u001b[0m\n\u001b[1;32m    249\u001b[0m         \u001b[0;32mif\u001b[0m \u001b[0mmax_level\u001b[0m \u001b[0;32mis\u001b[0m \u001b[0;32mnot\u001b[0m \u001b[0;32mNone\u001b[0m\u001b[0;34m:\u001b[0m\u001b[0;34m\u001b[0m\u001b[0;34m\u001b[0m\u001b[0m\n\u001b[1;32m    250\u001b[0m             \u001b[0mdata_source\u001b[0m\u001b[0;34m.\u001b[0m\u001b[0mmax_level\u001b[0m \u001b[0;34m=\u001b[0m \u001b[0mmax_level\u001b[0m\u001b[0;34m\u001b[0m\u001b[0;34m\u001b[0m\u001b[0m\n\u001b[0;32m--> 251\u001b[0;31m         \u001b[0;32mfor\u001b[0m \u001b[0mk\u001b[0m\u001b[0;34m,\u001b[0m \u001b[0mv\u001b[0m \u001b[0;32min\u001b[0m \u001b[0mdata_source\u001b[0m\u001b[0;34m.\u001b[0m\u001b[0mfield_parameters\u001b[0m\u001b[0;34m.\u001b[0m\u001b[0mitems\u001b[0m\u001b[0;34m(\u001b[0m\u001b[0;34m)\u001b[0m\u001b[0;34m:\u001b[0m\u001b[0;34m\u001b[0m\u001b[0;34m\u001b[0m\u001b[0m\n\u001b[0m\u001b[1;32m    252\u001b[0m             \u001b[0;32mif\u001b[0m \u001b[0mk\u001b[0m \u001b[0;32mnot\u001b[0m \u001b[0;32min\u001b[0m \u001b[0mself\u001b[0m\u001b[0;34m.\u001b[0m\u001b[0mfield_parameters\u001b[0m \u001b[0;32mor\u001b[0m\u001b[0;31m \u001b[0m\u001b[0;31m\\\u001b[0m\u001b[0;34m\u001b[0m\u001b[0;34m\u001b[0m\u001b[0m\n\u001b[1;32m    253\u001b[0m               \u001b[0mself\u001b[0m\u001b[0;34m.\u001b[0m\u001b[0m_is_default_field_parameter\u001b[0m\u001b[0;34m(\u001b[0m\u001b[0mk\u001b[0m\u001b[0;34m)\u001b[0m\u001b[0;34m:\u001b[0m\u001b[0;34m\u001b[0m\u001b[0;34m\u001b[0m\u001b[0m\n",
      "\u001b[0;31mAttributeError\u001b[0m: 'YTArray' object has no attribute 'field_parameters'"
     ]
    }
   ],
   "source": [
    "%%time\n",
    "ray_parr = make_light_ray_plots(ds, center_Halo, center_Halo,sp, norm_perp,\n",
    "                                norm_parr, 'highres/ray_parr')"
   ]
  },
  {
   "cell_type": "code",
   "execution_count": null,
   "metadata": {},
   "outputs": [],
   "source": []
  }
 ],
 "metadata": {
  "kernelspec": {
   "display_name": "Python 3",
   "language": "python",
   "name": "python3"
  },
  "language_info": {
   "codemirror_mode": {
    "name": "ipython",
    "version": 3
   },
   "file_extension": ".py",
   "mimetype": "text/x-python",
   "name": "python",
   "nbconvert_exporter": "python",
   "pygments_lexer": "ipython3",
   "version": "3.7.3"
  }
 },
 "nbformat": 4,
 "nbformat_minor": 2
}
